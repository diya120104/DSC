{
 "cells": [
  {
   "cell_type": "code",
   "execution_count": 1,
   "id": "518183a1-a4d2-49f2-b898-63293f6647bb",
   "metadata": {},
   "outputs": [
    {
     "name": "stdout",
     "output_type": "stream",
     "text": [
      "    OrderID    Category      City PaymentMethod    SaleDate       Price  \\\n",
      "0  ORD-7778   Furniture   Houston    Debit Card  2024-06-24  610.101338   \n",
      "1  ORD-6791   Furniture   Chicago           NaN  2024-05-02  714.329017   \n",
      "2  ORD-6138  Stationery  New York   Credit Card  2024-01-07  761.840755   \n",
      "3  ORD-8291   Furniture  New York   Credit Card  2024-06-27  564.990275   \n",
      "4  ORD-1314  Appliances   Houston   Credit Card  2024-02-09  771.496793   \n",
      "\n",
      "   Quantity  Discount   Revenue  \n",
      "0       1.0        20    488.08  \n",
      "1      30.0        48  11143.53  \n",
      "2      46.0        18  28736.63  \n",
      "3      37.0        18  17141.80  \n",
      "4      30.0        11  20598.96  \n"
     ]
    }
   ],
   "source": [
    "import pandas as pd\n",
    "file_path = \"Sales_Data_Challenges.csv\" \n",
    "sales_data = pd.read_csv(file_path)\n",
    "print(sales_data.head())\n",
    "sales_data['Revenue'] = pd.to_numeric(sales_data['Revenue'], errors='coerce')\n",
    "sales_data['Price'] = pd.to_numeric(sales_data['Price'], errors='coerce')\n",
    "sales_data['Discount'] = pd.to_numeric(sales_data['Discount'], errors='coerce')\n",
    "sales_data['Quantity'] = pd.to_numeric(sales_data['Quantity'], errors='coerce')"
   ]
  },
  {
   "cell_type": "code",
   "execution_count": 15,
   "id": "410a3469-ab47-4c2e-b077-9188acb8f8dd",
   "metadata": {},
   "outputs": [
    {
     "name": "stdout",
     "output_type": "stream",
     "text": [
      "Total Revenue by City:\n",
      "           City     Revenue\n",
      "0      Chicago  1459850.70\n",
      "1      Houston  1583426.63\n",
      "2  Los Angeles  1735146.79\n",
      "3     New York  1120128.43\n",
      "4      Phoenix  1564476.88\n"
     ]
    }
   ],
   "source": [
    "city_revenue = sales_data.groupby(\"City\")[\"Revenue\"].sum().reset_index()\n",
    "print(\"Total Revenue by City:\\n\", city_revenue)"
   ]
  },
  {
   "cell_type": "code",
   "execution_count": 21,
   "id": "0825f0dd-1920-4fca-b159-5c7719456a0e",
   "metadata": {},
   "outputs": [
    {
     "name": "stdout",
     "output_type": "stream",
     "text": [
      "\n",
      "Category with Highest Sales: Category      Clothing\n",
      "Revenue     1604157.72\n",
      "Name: 1, dtype: object\n"
     ]
    }
   ],
   "source": [
    "category_revenue = sales_data.groupby(\"Category\")[\"Revenue\"].sum().reset_index()\n",
    "highest_sales_category = category_revenue.loc[category_revenue[\"Revenue\"].idxmax()]\n",
    "print(\"\\nCategory with Highest Sales:\", highest_sales_category)"
   ]
  },
  {
   "cell_type": "code",
   "execution_count": 25,
   "id": "e6facbfa-c049-4b3a-82f1-b6b2cadd785a",
   "metadata": {},
   "outputs": [
    {
     "name": "stdout",
     "output_type": "stream",
     "text": [
      "\n",
      "Products with Frequent Sales Discrepancies:\n",
      "      OrderID     Category  Price  Discount\n",
      "16   ORD-8700    Furniture    NaN         4\n",
      "55   ORD-8046  Electronics    NaN        42\n",
      "59   ORD-8867  Electronics    NaN         8\n",
      "114  ORD-1524   Appliances    NaN         2\n",
      "118  ORD-2582     Clothing    NaN        49\n",
      "137  ORD-1133  Electronics    NaN         2\n",
      "144  ORD-7323   Stationery    NaN        26\n",
      "179  ORD-1001  Electronics    NaN         2\n",
      "201  ORD-1415   Stationery    NaN        20\n",
      "211  ORD-7002   Stationery    NaN        27\n",
      "213  ORD-4362   Appliances    NaN        22\n",
      "222  ORD-2644     Clothing    NaN         2\n",
      "223  ORD-5111  Electronics    NaN        10\n",
      "231  ORD-7965     Clothing    NaN        12\n",
      "248  ORD-3899    Furniture    NaN        25\n",
      "249  ORD-2681     Clothing    NaN        35\n",
      "294  ORD-6078     Clothing    NaN        49\n",
      "319  ORD-7019  Electronics    NaN        20\n",
      "347  ORD-7423    Furniture    NaN        30\n",
      "358  ORD-4530     Clothing    NaN        44\n",
      "362  ORD-9956     Clothing    NaN        20\n",
      "370  ORD-1483  Electronics    NaN        14\n",
      "378  ORD-9731    Furniture    NaN         2\n",
      "401  ORD-4089  Electronics    NaN         7\n",
      "481  ORD-1759  Electronics    NaN        39\n",
      "487  ORD-7326   Appliances    NaN         4\n",
      "500  ORD-6191    Furniture    NaN        39\n",
      "508  ORD-9994    Furniture    NaN         9\n",
      "708  ORD-4153  Electronics    NaN        16\n",
      "712  ORD-1354   Appliances    NaN        36\n",
      "724  ORD-3559  Electronics    NaN        49\n",
      "796  ORD-7899   Stationery    NaN        44\n",
      "797  ORD-1476   Appliances    NaN        44\n",
      "805  ORD-4873  Electronics    NaN        32\n",
      "836  ORD-1189   Appliances    NaN         0\n",
      "885  ORD-5909   Appliances    NaN        22\n",
      "932  ORD-2197     Clothing    NaN         7\n",
      "945  ORD-7064     Clothing    NaN        30\n",
      "978  ORD-1516     Clothing    NaN        39\n"
     ]
    }
   ],
   "source": [
    "discrepancies = sales_data[\n",
    "    (sales_data['Discount'] > 50) | \n",
    "    (sales_data['Price'].isnull()) | \n",
    "    (sales_data['Price'] == 0)\n",
    "]\n",
    "print(\"\\nProducts with Frequent Sales Discrepancies:\")\n",
    "print(discrepancies[['OrderID', 'Category', 'Price', 'Discount']])"
   ]
  },
  {
   "cell_type": "code",
   "execution_count": 9,
   "id": "e1a6d052-0974-4df5-bd21-9b47f044a4e9",
   "metadata": {},
   "outputs": [
    {
     "name": "stdout",
     "output_type": "stream",
     "text": [
      "\n",
      "Most Preferred Payment Method:\n",
      "    PaymentMethod  Count\n",
      "0  Online Payment    205\n",
      "1      Debit Card    200\n",
      "2            Cash    198\n",
      "3     Credit Card    179\n"
     ]
    }
   ],
   "source": [
    "payment_method_preference = sales_data['PaymentMethod'].value_counts().reset_index()\n",
    "payment_method_preference.columns = ['PaymentMethod', 'Count']\n",
    "print(\"\\nMost Preferred Payment Method:\")\n",
    "print(payment_method_preference)"
   ]
  },
  {
   "cell_type": "code",
   "execution_count": 29,
   "id": "a185b4bd-c9d6-4183-b491-e2ea784cb7bf",
   "metadata": {},
   "outputs": [
    {
     "name": "stdout",
     "output_type": "stream",
     "text": [
      "\n",
      "City-specific Payment Method Preferences:\n",
      "PaymentMethod  Cash  Credit Card  Debit Card  Online Payment\n",
      "City                                                        \n",
      "Chicago          45           34          43              29\n",
      "Houston          39           41          42              53\n",
      "Los Angeles      46           31          46              39\n",
      "New York         28           34          30              41\n",
      "Phoenix          40           39          39              43\n"
     ]
    }
   ],
   "source": [
    "city_payment_bias = sales_data.groupby(['City', 'PaymentMethod']).size().reset_index(name='Count')\n",
    "city_payment_bias = city_payment_bias.pivot(index='City', columns='PaymentMethod', values='Count').fillna(0)\n",
    "print(\"\\nCity-specific Payment Method Preferences:\")\n",
    "print(city_payment_bias)"
   ]
  },
  {
   "cell_type": "code",
   "execution_count": null,
   "id": "067fb66e-d441-45f6-866e-480a0cba93c0",
   "metadata": {},
   "outputs": [],
   "source": []
  }
 ],
 "metadata": {
  "kernelspec": {
   "display_name": "Python [conda env:base] *",
   "language": "python",
   "name": "conda-base-py"
  },
  "language_info": {
   "codemirror_mode": {
    "name": "ipython",
    "version": 3
   },
   "file_extension": ".py",
   "mimetype": "text/x-python",
   "name": "python",
   "nbconvert_exporter": "python",
   "pygments_lexer": "ipython3",
   "version": "3.12.7"
  }
 },
 "nbformat": 4,
 "nbformat_minor": 5
}
